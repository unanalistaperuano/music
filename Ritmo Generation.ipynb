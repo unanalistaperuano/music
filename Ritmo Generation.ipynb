{
 "cells": [
  {
   "cell_type": "code",
   "execution_count": 23,
   "metadata": {},
   "outputs": [],
   "source": [
    "import random\n",
    "from datetime import datetime\n",
    "from itertools import permutations \n",
    "import ast"
   ]
  },
  {
   "cell_type": "code",
   "execution_count": 6,
   "metadata": {
    "scrolled": true
   },
   "outputs": [],
   "source": [
    "def generateRandomSerie(initial=None):\n",
    "    if(not initial==None):\n",
    "        serie=[]\n",
    "        serie.append(initial)\n",
    "        while(len(serie)<12):\n",
    "            aux=random.randrange(0,12)\n",
    "            if(not aux in serie):\n",
    "                serie.append(aux)\n",
    "        return serie  \n",
    "    serie=[]\n",
    "    while(len(serie)<12):\n",
    "        aux=random.randrange(0,12)\n",
    "        if(not aux in serie):\n",
    "            serie.append(aux)\n",
    "    return serie\n",
    "def intervalSeries(serie):\n",
    "    interval=[]\n",
    "    for index, e in enumerate(serie):\n",
    "        if index+1 <len(serie):\n",
    "            aux=serie[index+1]-e\n",
    "        else:\n",
    "            aux=serie[0]-e\n",
    "        interval.append(aux)\n",
    "#     print(interval,\"--Intervalos sin mod12\")\n",
    "    for index,e in enumerate(interval):\n",
    "        if(e<0):\n",
    "            interval[index]=12+e\n",
    "    interval.pop()\n",
    "    return interval\n",
    "def serieInvertida(serie):\n",
    "    interval=intervalSeries(serie)\n",
    "#     print(interval)\n",
    "    invertida=[]\n",
    "    invertida.append(serie[0])\n",
    "    for i in range(1,12):\n",
    "        aux=invertida[i-1]\n",
    "        aux-=interval[i-1]\n",
    "        invertida.append(aux)\n",
    "#     print(invertida)\n",
    "    \n",
    "    for index, e in enumerate(invertida):\n",
    "        invertida[index]= e % 12\n",
    "    return invertida\n",
    "def transposicion(serie, variacion=6):\n",
    "    auxSerie=[]\n",
    "    for index, e in enumerate(serie):\n",
    "        e+=variacion\n",
    "        auxSerie.append(e)\n",
    "#     print(serie)\n",
    "    for index, e in enumerate(auxSerie):\n",
    "        auxSerie[index]=(e % 12)\n",
    "    return auxSerie"
   ]
  },
  {
   "cell_type": "code",
   "execution_count": 3,
   "metadata": {},
   "outputs": [],
   "source": [
    "def cuadradoMagico(serie):\n",
    "    invertida=serieInvertida(serie)\n",
    "    matrix=[]\n",
    "    matrix.append(serie)\n",
    "    for i in range(1,12):\n",
    "        variacion=invertida[i]\n",
    "        variacion-=matrix[0][0]\n",
    "        matrix.append(transposicion(serie,variacion))\n",
    "    return matrix\n",
    "def printSerieRitmics(serie):\n",
    "    print('\\n --Serie\\n',serie)\n",
    "    print(\"\\n -- Intervalos com mod12 \\n\",intervalSeries(serie))\n",
    "    print(\"\\n -- Serie Invertida\\n\",serieInvertida(serie))\n",
    "    print(\"\\n -- Serie tranposicion +6\\n\",transposicion(serie))\n",
    "    m=cuadradoMagico(serie)\n",
    "    print(\"\\n -- Cuadrado magico\\n\")\n",
    "    for i in m:\n",
    "        print(i)"
   ]
  },
  {
   "cell_type": "code",
   "execution_count": 7,
   "metadata": {},
   "outputs": [
    {
     "name": "stdout",
     "output_type": "stream",
     "text": [
      "[11, 8, 9, 10, 7, 6, 5, 2, 3, 4, 1]\n"
     ]
    }
   ],
   "source": [
    "serie=[5,4,0,9,7,2,8,1,3,6,10,11]\n",
    "intervalos=intervalSeries(serie)\n",
    "print(intervalos)"
   ]
  },
  {
   "cell_type": "code",
   "execution_count": 8,
   "metadata": {
    "scrolled": true
   },
   "outputs": [
    {
     "name": "stdout",
     "output_type": "stream",
     "text": [
      "\n",
      "-----------------------------------\n",
      " Serie N  1 \n",
      "-----------------------------------\n"
     ]
    }
   ],
   "source": [
    "# serie=generateRandomSerie()\n",
    "# serie=[5,4,0,9,7,2,8,1,3,6,10,11]\n",
    "# printSerieRitmics(serie)\n",
    "serie=[]\n",
    "intervalos=[]\n",
    "final=[]\n",
    "values=[0,1,2,3,4,5,6,7,8,9,10,11]\n",
    "perm = permutations(values)\n",
    "f= open(\"combination.txt\",\"w\")\n",
    "for index,serie in enumerate(perm):\n",
    "    serie=list(serie)\n",
    "    intervalos=intervalSeries(serie)\n",
    "    if(len(set(intervalos))==11):\n",
    "        final.append([serie,intervalos,index])\n",
    "        f.write(\"ENCONTRADO: \"+str([serie,intervalos,index])+'\\n')\n",
    "f.close()"
   ]
  },
  {
   "cell_type": "code",
   "execution_count": 27,
   "metadata": {},
   "outputs": [
    {
     "name": "stdout",
     "output_type": "stream",
     "text": [
      "46272\n"
     ]
    }
   ],
   "source": [
    "f= open(\"combination.txt\",\"r\")\n",
    "lines=f.readlines()\n",
    "series=[]\n",
    "for i in lines:\n",
    "    serie=\"\"\n",
    "    aux=i.find('[')\n",
    "    aux2=i[aux+1:]\n",
    "    tmp=aux2.find(']')\n",
    "    serie=aux2[:tmp+1]\n",
    "    serie=ast.literal_eval(serie)\n",
    "    series.append(serie)\n",
    "f.close()\n",
    "print(len(series))"
   ]
  },
  {
   "cell_type": "code",
   "execution_count": 29,
   "metadata": {},
   "outputs": [
    {
     "name": "stdout",
     "output_type": "stream",
     "text": [
      "[0, 1, 3, 2, 7, 10, 8, 4, 11, 5, 9, 6]\n",
      "[0, 11, 9, 10, 5, 2, 4, 8, 1, 7, 3, 6]\n",
      "[6, 7, 9, 8, 1, 4, 2, 10, 5, 11, 3, 0]\n",
      "[6, 5, 3, 4, 11, 8, 10, 2, 7, 1, 9, 0]\n"
     ]
    }
   ],
   "source": [
    "print(series[0])\n",
    "print(serieInvertida(series[0]))\n",
    "print(transposicion(series[0]))\n",
    "print(serieInvertida(transposicion(series[0])))"
   ]
  },
  {
   "cell_type": "code",
   "execution_count": 48,
   "metadata": {},
   "outputs": [
    {
     "name": "stdout",
     "output_type": "stream",
     "text": [
      "11568\n"
     ]
    }
   ],
   "source": [
    "finalito=[]\n",
    "\n",
    "for i in series:\n",
    "    condicion= (i in finalito) or (serieInvertida(i) in finalito) or (transposicion(i) in finalito) or (serieInvertida(transposicion(i)) in finalito)\n",
    "    if(condicion):\n",
    "         continue\n",
    "    else:\n",
    "        finalito.append(i)     \n",
    "print(len(finalito))\n",
    "\n",
    "f1=open(\"CombinacoesFinais.txt\",\"w\")\n",
    "\n",
    "for i in finalito:\n",
    "    f1.write(\"Serie: \"+str(i)+\" Invertida: \"+ str(serieInvertida(i)) +\" Transposicao: \"+str(transposicion(i))+\" InvertidaTranposicao:\"+str(serieInvertida(transposicion(i)))+\"\\n\")\n",
    "f1.close()"
   ]
  },
  {
   "cell_type": "code",
   "execution_count": null,
   "metadata": {},
   "outputs": [],
   "source": []
  }
 ],
 "metadata": {
  "kernelspec": {
   "display_name": "Python 3",
   "language": "python",
   "name": "python3"
  },
  "language_info": {
   "codemirror_mode": {
    "name": "ipython",
    "version": 3
   },
   "file_extension": ".py",
   "mimetype": "text/x-python",
   "name": "python",
   "nbconvert_exporter": "python",
   "pygments_lexer": "ipython3",
   "version": "3.7.1"
  },
  "varInspector": {
   "cols": {
    "lenName": 16,
    "lenType": 16,
    "lenVar": 40
   },
   "kernels_config": {
    "python": {
     "delete_cmd_postfix": "",
     "delete_cmd_prefix": "del ",
     "library": "var_list.py",
     "varRefreshCmd": "print(var_dic_list())"
    },
    "r": {
     "delete_cmd_postfix": ") ",
     "delete_cmd_prefix": "rm(",
     "library": "var_list.r",
     "varRefreshCmd": "cat(var_dic_list()) "
    }
   },
   "types_to_exclude": [
    "module",
    "function",
    "builtin_function_or_method",
    "instance",
    "_Feature"
   ],
   "window_display": false
  }
 },
 "nbformat": 4,
 "nbformat_minor": 2
}
